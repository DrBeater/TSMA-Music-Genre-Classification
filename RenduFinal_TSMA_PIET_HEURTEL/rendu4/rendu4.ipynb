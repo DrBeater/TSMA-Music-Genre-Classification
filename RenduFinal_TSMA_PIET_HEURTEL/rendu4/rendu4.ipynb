{
  "cells": [
    {
      "cell_type": "code",
      "execution_count": 1,
      "metadata": {
        "colab": {
          "base_uri": "https://localhost:8080/"
        },
        "id": "IeP9NnyOF8TC",
        "outputId": "55378215-c7ee-4fa9-8ee2-1e581e62d4b9"
      },
      "outputs": [
        {
          "data": {
            "text/plain": "'!rm -rf sample_data\\n\\n# Melspectro Hop_size 512, shape 1249x128\\n#!wget http://dept-info.labri.fr/~hanna/ProjetClassif/melspectro_songs_train.pickle\\n#!wget http://dept-info.labri.fr/~hanna/ProjetClassif/melspectro_genres_train.pickle\\n\\n#!wget http://dept-info.labri.fr/~hanna/ProjetClassif/melspectro_songs_test.pickle\\n#!wget http://dept-info.labri.fr/~hanna/ProjetClassif/melspectro_filenames_test.pickle\\n\\n# Melspectro Hop_size 2048, shape 313x128\\n!wget http://dept-info.labri.fr/~hanna/ProjetClassif/melspectro_songs_train_new.pickle\\n!wget http://dept-info.labri.fr/~hanna/ProjetClassif/melspectro_genres_train_new.pickle\\n\\n!wget http://dept-info.labri.fr/~hanna/ProjetClassif/melspectro_songs_test_new.pickle\\n!wget http://dept-info.labri.fr/~hanna/ProjetClassif/melspectro_filenames_test.pickle'"
          },
          "execution_count": 1,
          "metadata": {},
          "output_type": "execute_result"
        }
      ],
      "source": [
        "\"\"\"!rm -rf sample_data\n",
        "\n",
        "# Melspectro Hop_size 512, shape 1249x128\n",
        "#!wget http://dept-info.labri.fr/~hanna/ProjetClassif/melspectro_songs_train.pickle\n",
        "#!wget http://dept-info.labri.fr/~hanna/ProjetClassif/melspectro_genres_train.pickle\n",
        "\n",
        "#!wget http://dept-info.labri.fr/~hanna/ProjetClassif/melspectro_songs_test.pickle\n",
        "#!wget http://dept-info.labri.fr/~hanna/ProjetClassif/melspectro_filenames_test.pickle\n",
        "\n",
        "# Melspectro Hop_size 2048, shape 313x128\n",
        "!wget http://dept-info.labri.fr/~hanna/ProjetClassif/melspectro_songs_train_new.pickle\n",
        "!wget http://dept-info.labri.fr/~hanna/ProjetClassif/melspectro_genres_train_new.pickle\n",
        "\n",
        "!wget http://dept-info.labri.fr/~hanna/ProjetClassif/melspectro_songs_test_new.pickle\n",
        "!wget http://dept-info.labri.fr/~hanna/ProjetClassif/melspectro_filenames_test.pickle\"\"\"\n"
      ]
    },
    {
      "cell_type": "code",
      "execution_count": 102,
      "metadata": {
        "colab": {
          "base_uri": "https://localhost:8080/"
        },
        "id": "ZU_J597KGE7A",
        "outputId": "548cf963-a898-4d6e-eac2-74fb90807ed8"
      },
      "outputs": [
        {
          "data": {
            "text/plain": "'\\nx_train /= np.min(x_train)\\nx_test /= np.min(x_train)\\n\\nx_train = x_train.reshape(x_train.shape[0], 313, 128, 1)\\nx_test = x_test.reshape(x_test.shape[0], 313, 128, 1)\\n'"
          },
          "execution_count": 102,
          "metadata": {},
          "output_type": "execute_result"
        }
      ],
      "source": [
        "import pickle\n",
        "import tensorflow as tf\n",
        "import numpy as np\n",
        "import pandas as pd\n",
        "from keras.models import Sequential\n",
        "from keras.layers import Dense\n",
        "from keras.wrappers.scikit_learn import KerasClassifier\n",
        "#from keras.optimizers import Adam\n",
        "#from keras.utils import to_categorical\n",
        "\n",
        "x_train=pickle.load(open('train_dataset.pickle','rb'))\n",
        "y_train=pickle.load(open('melspectro_genres_train_new.pickle','rb')).astype(int)\n",
        "\n",
        "x_test=pickle.load(open('test_dataset.pickle','rb'))[0]\n",
        "track_id=pickle.load(open('melspectro_filenames_test.pickle','rb'))\n",
        "\n",
        "\n",
        "zer = np.zeros(y_train.shape[1], dtype=int)\n",
        "y_test = np.array([zer])\n",
        "\n",
        "for i in range (1, len(track_id)):\n",
        "  y_test = np.vstack([y_test, zer])\n",
        "\n",
        "\n",
        "\"\"\"\n",
        "x_train /= np.min(x_train)\n",
        "x_test /= np.min(x_train)\n",
        "\n",
        "x_train = x_train.reshape(x_train.shape[0], 313, 128, 1)\n",
        "x_test = x_test.reshape(x_test.shape[0], 313, 128, 1)\n",
        "\"\"\"\n"
      ]
    },
    {
      "cell_type": "code",
      "execution_count": 103,
      "metadata": {
        "id": "78GokqsM14BZ"
      },
      "outputs": [
        {
          "data": {
            "text/plain": "'\\nmodel = tf.keras.models.Sequential()\\n\\n#model.add(tf.keras.layers.Conv2D(64, kernel_size=(3, 3), activation=\\'relu\\', input_shape=(313,128,1)))\\nmodel.add(tf.keras.layers.Conv2D(64, kernel_size=(3, 3), activation=\\'relu\\', input_shape=(128,313,1)))\\nmodel.add(tf.keras.layers.MaxPooling2D(pool_size=(2, 2)))\\n\\nmodel.add(tf.keras.layers.Conv2D(32, kernel_size=(3, 3), activation=\\'relu\\'))\\nmodel.add(tf.keras.layers.MaxPooling2D(pool_size=(2, 2)))\\n\\nmodel.add(tf.keras.layers.Conv2D(16, kernel_size=(3, 3), activation=\\'relu\\'))\\nmodel.add(tf.keras.layers.MaxPooling2D(pool_size=(2, 2)))\\n\\nmodel.add(tf.keras.layers.Flatten())\\nmodel.add(tf.keras.layers.Dense(64, activation=\\'relu\\'))\\n#model.add(tf.keras.layers.Dense(32, activation=\\'relu\\'))\\nmodel.add(tf.keras.layers.Dense(8, activation=\\'softmax\\'))\\n\\n\\nmodel.compile(\\n    loss=\"categorical_crossentropy\",\\n    optimizer=\"adam\",\\n    metrics=[\"accuracy\"]\\n)\\n\\nhistory = model.fit(x_train,\\n                    y_train,\\n                    epochs=7,\\n                    validation_data = (x_test,y_test))\\n'"
          },
          "execution_count": 103,
          "metadata": {},
          "output_type": "execute_result"
        }
      ],
      "source": [
        "\"\"\"\n",
        "model = tf.keras.models.Sequential()\n",
        "\n",
        "#model.add(tf.keras.layers.Conv2D(64, kernel_size=(3, 3), activation='relu', input_shape=(313,128,1)))\n",
        "model.add(tf.keras.layers.Conv2D(64, kernel_size=(3, 3), activation='relu', input_shape=(128,313,1)))\n",
        "model.add(tf.keras.layers.MaxPooling2D(pool_size=(2, 2)))\n",
        "\n",
        "model.add(tf.keras.layers.Conv2D(32, kernel_size=(3, 3), activation='relu'))\n",
        "model.add(tf.keras.layers.MaxPooling2D(pool_size=(2, 2)))\n",
        "\n",
        "model.add(tf.keras.layers.Conv2D(16, kernel_size=(3, 3), activation='relu'))\n",
        "model.add(tf.keras.layers.MaxPooling2D(pool_size=(2, 2)))\n",
        "\n",
        "model.add(tf.keras.layers.Flatten())\n",
        "model.add(tf.keras.layers.Dense(64, activation='relu'))\n",
        "#model.add(tf.keras.layers.Dense(32, activation='relu'))\n",
        "model.add(tf.keras.layers.Dense(8, activation='softmax'))\n",
        "\n",
        "\n",
        "model.compile(\n",
        "    loss=\"categorical_crossentropy\",\n",
        "    optimizer=\"adam\",\n",
        "    metrics=[\"accuracy\"]\n",
        ")\n",
        "\n",
        "history = model.fit(x_train,\n",
        "                    y_train,\n",
        "                    epochs=7,\n",
        "                    validation_data = (x_test,y_test))\n",
        "\"\"\""
      ]
    },
    {
      "cell_type": "code",
      "execution_count": 104,
      "metadata": {
        "id": "w1Qx56A-dR7R"
      },
      "outputs": [],
      "source": [
        "#predictions = x_test"
      ]
    },
    {
      "cell_type": "code",
      "execution_count": 105,
      "metadata": {
        "colab": {
          "base_uri": "https://localhost:8080/"
        },
        "id": "kdDGRrXTJ2af",
        "outputId": "8a9a7d03-da0d-4ba3-ca1d-1ffd2b698ef0"
      },
      "outputs": [
        {
          "data": {
            "text/plain": "'\\nindexes = []\\nprint(len(predictions[0]))\\n#print(predictions.shape)\\nfor i in predictions[0]:\\n  oui = np.max(i)\\n  index = (np.where(i==oui)[0]+1).astype(int)\\n  indexes.append(index[0])\\n\\ntestid = pd.read_csv(filepath_or_buffer=\"test.csv\", sep=\",\")\\ndf = testid\\nnum = pd.DataFrame(testid).to_numpy()\\n\\nsortie = np.array([zer])\\n\\nfor i in range (1, len(testid)):\\n  sortie = np.vstack([sortie, zer])\\n\\nresultats = [None]*len(testid)\\ncpt_trackId=0\\ncpt_resultats=0\\n\\n\\nfor i in num :\\n  if (i[0] == int(track_id[cpt_trackId])) :\\n    resultats[cpt_resultats] = indexes[cpt_trackId]\\n    cpt_trackId+=1\\n  else :\\n    resultats[cpt_resultats] = 1\\n  cpt_resultats+=1\\n\\ndatapred = pd.DataFrame(resultats)\\ndf[\\'genre_id\\'] = datapred\\ndf.to_csv(\"submit.csv\", index=False)\\n'"
          },
          "execution_count": 105,
          "metadata": {},
          "output_type": "execute_result"
        }
      ],
      "source": [
        "\"\"\"\n",
        "indexes = []\n",
        "print(len(predictions[0]))\n",
        "#print(predictions.shape)\n",
        "for i in predictions[0]:\n",
        "  maxi = np.max(i)\n",
        "  index = (np.where(i==maxi)[0]+1).astype(int)\n",
        "  indexes.append(index[0])\n",
        "\n",
        "testid = pd.read_csv(filepath_or_buffer=\"test.csv\", sep=\",\")\n",
        "df = testid\n",
        "num = pd.DataFrame(testid).to_numpy()\n",
        "\n",
        "sortie = np.array([zer])\n",
        "\n",
        "for i in range (1, len(testid)):\n",
        "  sortie = np.vstack([sortie, zer])\n",
        "\n",
        "resultats = [None]*len(testid)\n",
        "cpt_trackId=0\n",
        "cpt_resultats=0\n",
        "\n",
        "\n",
        "for i in num :\n",
        "  if (i[0] == int(track_id[cpt_trackId])) :\n",
        "    resultats[cpt_resultats] = indexes[cpt_trackId]\n",
        "    cpt_trackId+=1\n",
        "  else :\n",
        "    resultats[cpt_resultats] = 1\n",
        "  cpt_resultats+=1\n",
        "\n",
        "datapred = pd.DataFrame(resultats)\n",
        "df['genre_id'] = datapred\n",
        "df.to_csv(\"submit.csv\", index=False)\n",
        "\"\"\""
      ]
    }
  ],
  "metadata": {
    "colab": {
      "collapsed_sections": [],
      "machine_shape": "hm",
      "name": "rendu4.ipynb",
      "provenance": []
    },
    "kernelspec": {
      "display_name": "Python 3",
      "name": "python3"
    },
    "language_info": {}
  },
  "nbformat": 4,
  "nbformat_minor": 0
}